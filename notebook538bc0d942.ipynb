{
 "cells": [
  {
   "cell_type": "markdown",
   "id": "93a49dd1",
   "metadata": {
    "papermill": {
     "duration": 0.007636,
     "end_time": "2024-07-19T07:39:41.490335",
     "exception": false,
     "start_time": "2024-07-19T07:39:41.482699",
     "status": "completed"
    },
    "tags": []
   },
   "source": [
    "# FLO Gözetimsiz Öğrenme ile Müşteri\n",
    "# Segmentasyonu\n",
    "**İş Problemi**\n",
    "> FLO müşterilerini segmentlere ayırıp bu segmentlere göre\n",
    "> pazarlama stratejileri belirlemek istiyor. Buna yönelik\n",
    "> olarak müşterilerin davranışları tanımlanacak ve bu\n",
    "> davranışlardaki öbeklenmelere göre gruplar oluşturulacak."
   ]
  },
  {
   "cell_type": "markdown",
   "id": "f04085bd",
   "metadata": {
    "papermill": {
     "duration": 0.005768,
     "end_time": "2024-07-19T07:39:41.502911",
     "exception": false,
     "start_time": "2024-07-19T07:39:41.497143",
     "status": "completed"
    },
    "tags": []
   },
   "source": [
    "**Veri Seti Hikayesi**\n",
    ">Veri seti Flo’dan son alışverişlerini 2020 - 2021 yıllarında OmniChannel (hem online hem offline alışveriş yapan)\n",
    "olarak yapan müşterilerin geçmiş alışveriş davranışlarından elde edilen bilgilerden oluşmaktadır.\n",
    "12 Değişken 19.945 Gözlem 2.7MB*\n",
    "*  master_id: Eşsiz müşteri numarası\n",
    "*  order_channel: Alışveriş yapılan platforma ait hangi kanalın kullanıldığı (Android, ios, Desktop, Mobile)\n",
    "*  last_order_channel: En son alışverişin yapıldığı kanal\n",
    "*  first_order_date: Müşterinin yaptığı ilk alışveriş tarihi\n",
    "*  last_order_date: Müşterinin yaptığı son alışveriş tarihi\n",
    "*  last_order_date_online: Müşterinin online platformda yaptığı son alışveriş tarihi\n",
    "*  last_order_date_offline: Müşterinin offline platformda yaptığı son alışveriş tarihi\n",
    "*  order_num_total_ever_online: Müşterinin online platformda yaptığı toplam alışveriş sayısı\n",
    "*  order_num_total_ever_offline: Müşterinin offline'da yaptığı toplam alışveriş sayısı\n",
    "*  customer_value_total_ever_offline: Müşterinin offline alışverişlerinde ödediği toplam ücret\n",
    "*  customer_value_total_ever_online: Müşterinin online alışverişlerinde ödediği toplam ücret\n",
    "*  interested_in_categories_12: Müşterinin son 12 ayda alışveriş yaptığı kategorilerin listesi"
   ]
  },
  {
   "cell_type": "code",
   "execution_count": 1,
   "id": "96449f43",
   "metadata": {
    "execution": {
     "iopub.execute_input": "2024-07-19T07:39:41.517248Z",
     "iopub.status.busy": "2024-07-19T07:39:41.516255Z",
     "iopub.status.idle": "2024-07-19T07:39:41.530475Z",
     "shell.execute_reply": "2024-07-19T07:39:41.528813Z"
    },
    "papermill": {
     "duration": 0.024715,
     "end_time": "2024-07-19T07:39:41.533752",
     "exception": false,
     "start_time": "2024-07-19T07:39:41.509037",
     "status": "completed"
    },
    "tags": []
   },
   "outputs": [],
   "source": [
    "from IPython.core.interactiveshell import InteractiveShell\n",
    "InteractiveShell.ast_node_interactivity = \"all\""
   ]
  },
  {
   "cell_type": "code",
   "execution_count": 2,
   "id": "8ddb2fcb",
   "metadata": {
    "execution": {
     "iopub.execute_input": "2024-07-19T07:39:41.548649Z",
     "iopub.status.busy": "2024-07-19T07:39:41.548185Z",
     "iopub.status.idle": "2024-07-19T07:39:44.865299Z",
     "shell.execute_reply": "2024-07-19T07:39:44.864104Z"
    },
    "papermill": {
     "duration": 3.327207,
     "end_time": "2024-07-19T07:39:44.867993",
     "exception": false,
     "start_time": "2024-07-19T07:39:41.540786",
     "status": "completed"
    },
    "tags": []
   },
   "outputs": [],
   "source": [
    "import matplotlib.pyplot as plt\n",
    "import numpy as np\n",
    "import pandas as pd\n",
    "import seaborn as sns\n",
    "import datetime as dt\n",
    "import warnings\n",
    "from scipy import stats\n",
    "from sklearn.preprocessing import MinMaxScaler\n",
    "from sklearn.cluster import KMeans, AgglomerativeClustering\n",
    "from yellowbrick.cluster import KElbowVisualizer\n",
    "from scipy.cluster.hierarchy import linkage, dendrogram\n",
    "warnings.filterwarnings('ignore', category=FutureWarning, module='sklearn')\n",
    "\n",
    "\n",
    "pd.set_option('display.max_columns', None)\n",
    "pd.set_option('display.width', 500)\n",
    "pd.set_option('display.max_rows', None)\n",
    "pd.set_option('display.float_format', lambda x: '%.4f' % x)"
   ]
  },
  {
   "cell_type": "code",
   "execution_count": 3,
   "id": "9930ea23",
   "metadata": {
    "execution": {
     "iopub.execute_input": "2024-07-19T07:39:44.882158Z",
     "iopub.status.busy": "2024-07-19T07:39:44.881588Z",
     "iopub.status.idle": "2024-07-19T07:39:45.036910Z",
     "shell.execute_reply": "2024-07-19T07:39:45.035747Z"
    },
    "papermill": {
     "duration": 0.165728,
     "end_time": "2024-07-19T07:39:45.039857",
     "exception": false,
     "start_time": "2024-07-19T07:39:44.874129",
     "status": "completed"
    },
    "tags": []
   },
   "outputs": [
    {
     "data": {
      "text/html": [
       "<div>\n",
       "<style scoped>\n",
       "    .dataframe tbody tr th:only-of-type {\n",
       "        vertical-align: middle;\n",
       "    }\n",
       "\n",
       "    .dataframe tbody tr th {\n",
       "        vertical-align: top;\n",
       "    }\n",
       "\n",
       "    .dataframe thead th {\n",
       "        text-align: right;\n",
       "    }\n",
       "</style>\n",
       "<table border=\"1\" class=\"dataframe\">\n",
       "  <thead>\n",
       "    <tr style=\"text-align: right;\">\n",
       "      <th></th>\n",
       "      <th>master_id</th>\n",
       "      <th>order_channel</th>\n",
       "      <th>last_order_channel</th>\n",
       "      <th>first_order_date</th>\n",
       "      <th>last_order_date</th>\n",
       "      <th>last_order_date_online</th>\n",
       "      <th>last_order_date_offline</th>\n",
       "      <th>order_num_total_ever_online</th>\n",
       "      <th>order_num_total_ever_offline</th>\n",
       "      <th>customer_value_total_ever_offline</th>\n",
       "      <th>customer_value_total_ever_online</th>\n",
       "      <th>interested_in_categories_12</th>\n",
       "    </tr>\n",
       "  </thead>\n",
       "  <tbody>\n",
       "    <tr>\n",
       "      <th>0</th>\n",
       "      <td>cc294636-19f0-11eb-8d74-000d3a38a36f</td>\n",
       "      <td>Android App</td>\n",
       "      <td>Offline</td>\n",
       "      <td>2020-10-30</td>\n",
       "      <td>2021-02-26</td>\n",
       "      <td>2021-02-21</td>\n",
       "      <td>2021-02-26</td>\n",
       "      <td>4.0000</td>\n",
       "      <td>1.0000</td>\n",
       "      <td>139.9900</td>\n",
       "      <td>799.3800</td>\n",
       "      <td>[KADIN]</td>\n",
       "    </tr>\n",
       "    <tr>\n",
       "      <th>1</th>\n",
       "      <td>f431bd5a-ab7b-11e9-a2fc-000d3a38a36f</td>\n",
       "      <td>Android App</td>\n",
       "      <td>Mobile</td>\n",
       "      <td>2017-02-08</td>\n",
       "      <td>2021-02-16</td>\n",
       "      <td>2021-02-16</td>\n",
       "      <td>2020-01-10</td>\n",
       "      <td>19.0000</td>\n",
       "      <td>2.0000</td>\n",
       "      <td>159.9700</td>\n",
       "      <td>1853.5800</td>\n",
       "      <td>[ERKEK, COCUK, KADIN, AKTIFSPOR]</td>\n",
       "    </tr>\n",
       "    <tr>\n",
       "      <th>2</th>\n",
       "      <td>69b69676-1a40-11ea-941b-000d3a38a36f</td>\n",
       "      <td>Android App</td>\n",
       "      <td>Android App</td>\n",
       "      <td>2019-11-27</td>\n",
       "      <td>2020-11-27</td>\n",
       "      <td>2020-11-27</td>\n",
       "      <td>2019-12-01</td>\n",
       "      <td>3.0000</td>\n",
       "      <td>2.0000</td>\n",
       "      <td>189.9700</td>\n",
       "      <td>395.3500</td>\n",
       "      <td>[ERKEK, KADIN]</td>\n",
       "    </tr>\n",
       "    <tr>\n",
       "      <th>3</th>\n",
       "      <td>1854e56c-491f-11eb-806e-000d3a38a36f</td>\n",
       "      <td>Android App</td>\n",
       "      <td>Android App</td>\n",
       "      <td>2021-01-06</td>\n",
       "      <td>2021-01-17</td>\n",
       "      <td>2021-01-17</td>\n",
       "      <td>2021-01-06</td>\n",
       "      <td>1.0000</td>\n",
       "      <td>1.0000</td>\n",
       "      <td>39.9900</td>\n",
       "      <td>81.9800</td>\n",
       "      <td>[AKTIFCOCUK, COCUK]</td>\n",
       "    </tr>\n",
       "    <tr>\n",
       "      <th>4</th>\n",
       "      <td>d6ea1074-f1f5-11e9-9346-000d3a38a36f</td>\n",
       "      <td>Desktop</td>\n",
       "      <td>Desktop</td>\n",
       "      <td>2019-08-03</td>\n",
       "      <td>2021-03-07</td>\n",
       "      <td>2021-03-07</td>\n",
       "      <td>2019-08-03</td>\n",
       "      <td>1.0000</td>\n",
       "      <td>1.0000</td>\n",
       "      <td>49.9900</td>\n",
       "      <td>159.9900</td>\n",
       "      <td>[AKTIFSPOR]</td>\n",
       "    </tr>\n",
       "  </tbody>\n",
       "</table>\n",
       "</div>"
      ],
      "text/plain": [
       "                              master_id order_channel last_order_channel first_order_date last_order_date last_order_date_online last_order_date_offline  order_num_total_ever_online  order_num_total_ever_offline  customer_value_total_ever_offline  customer_value_total_ever_online       interested_in_categories_12\n",
       "0  cc294636-19f0-11eb-8d74-000d3a38a36f   Android App            Offline       2020-10-30      2021-02-26             2021-02-21              2021-02-26                       4.0000                        1.0000                           139.9900                          799.3800                           [KADIN]\n",
       "1  f431bd5a-ab7b-11e9-a2fc-000d3a38a36f   Android App             Mobile       2017-02-08      2021-02-16             2021-02-16              2020-01-10                      19.0000                        2.0000                           159.9700                         1853.5800  [ERKEK, COCUK, KADIN, AKTIFSPOR]\n",
       "2  69b69676-1a40-11ea-941b-000d3a38a36f   Android App        Android App       2019-11-27      2020-11-27             2020-11-27              2019-12-01                       3.0000                        2.0000                           189.9700                          395.3500                    [ERKEK, KADIN]\n",
       "3  1854e56c-491f-11eb-806e-000d3a38a36f   Android App        Android App       2021-01-06      2021-01-17             2021-01-17              2021-01-06                       1.0000                        1.0000                            39.9900                           81.9800               [AKTIFCOCUK, COCUK]\n",
       "4  d6ea1074-f1f5-11e9-9346-000d3a38a36f       Desktop            Desktop       2019-08-03      2021-03-07             2021-03-07              2019-08-03                       1.0000                        1.0000                            49.9900                          159.9900                       [AKTIFSPOR]"
      ]
     },
     "execution_count": 3,
     "metadata": {},
     "output_type": "execute_result"
    }
   ],
   "source": [
    "df = pd.read_csv(\"/kaggle/input/flo-unsupervised/flo_data_20k.csv\")\n",
    "df.head()"
   ]
  },
  {
   "cell_type": "code",
   "execution_count": 4,
   "id": "35c592e4",
   "metadata": {
    "execution": {
     "iopub.execute_input": "2024-07-19T07:39:45.054695Z",
     "iopub.status.busy": "2024-07-19T07:39:45.054271Z",
     "iopub.status.idle": "2024-07-19T07:39:45.161868Z",
     "shell.execute_reply": "2024-07-19T07:39:45.160604Z"
    },
    "papermill": {
     "duration": 0.118162,
     "end_time": "2024-07-19T07:39:45.164647",
     "exception": false,
     "start_time": "2024-07-19T07:39:45.046485",
     "status": "completed"
    },
    "tags": []
   },
   "outputs": [
    {
     "data": {
      "text/html": [
       "<div>\n",
       "<style scoped>\n",
       "    .dataframe tbody tr th:only-of-type {\n",
       "        vertical-align: middle;\n",
       "    }\n",
       "\n",
       "    .dataframe tbody tr th {\n",
       "        vertical-align: top;\n",
       "    }\n",
       "\n",
       "    .dataframe thead th {\n",
       "        text-align: right;\n",
       "    }\n",
       "</style>\n",
       "<table border=\"1\" class=\"dataframe\">\n",
       "  <thead>\n",
       "    <tr style=\"text-align: right;\">\n",
       "      <th></th>\n",
       "      <th>master_id</th>\n",
       "      <th>order_channel</th>\n",
       "      <th>last_order_channel</th>\n",
       "      <th>first_order_date</th>\n",
       "      <th>last_order_date</th>\n",
       "      <th>last_order_date_online</th>\n",
       "      <th>last_order_date_offline</th>\n",
       "      <th>order_num_total_ever_online</th>\n",
       "      <th>order_num_total_ever_offline</th>\n",
       "      <th>customer_value_total_ever_offline</th>\n",
       "      <th>customer_value_total_ever_online</th>\n",
       "      <th>interested_in_categories_12</th>\n",
       "    </tr>\n",
       "  </thead>\n",
       "  <tbody>\n",
       "    <tr>\n",
       "      <th>0</th>\n",
       "      <td>cc294636-19f0-11eb-8d74-000d3a38a36f</td>\n",
       "      <td>Android App</td>\n",
       "      <td>Offline</td>\n",
       "      <td>2020-10-30</td>\n",
       "      <td>2021-02-26</td>\n",
       "      <td>2021-02-21</td>\n",
       "      <td>2021-02-26</td>\n",
       "      <td>4.0000</td>\n",
       "      <td>1.0000</td>\n",
       "      <td>139.9900</td>\n",
       "      <td>799.3800</td>\n",
       "      <td>[KADIN]</td>\n",
       "    </tr>\n",
       "    <tr>\n",
       "      <th>1</th>\n",
       "      <td>f431bd5a-ab7b-11e9-a2fc-000d3a38a36f</td>\n",
       "      <td>Android App</td>\n",
       "      <td>Mobile</td>\n",
       "      <td>2017-02-08</td>\n",
       "      <td>2021-02-16</td>\n",
       "      <td>2021-02-16</td>\n",
       "      <td>2020-01-10</td>\n",
       "      <td>19.0000</td>\n",
       "      <td>2.0000</td>\n",
       "      <td>159.9700</td>\n",
       "      <td>1853.5800</td>\n",
       "      <td>[ERKEK, COCUK, KADIN, AKTIFSPOR]</td>\n",
       "    </tr>\n",
       "    <tr>\n",
       "      <th>2</th>\n",
       "      <td>69b69676-1a40-11ea-941b-000d3a38a36f</td>\n",
       "      <td>Android App</td>\n",
       "      <td>Android App</td>\n",
       "      <td>2019-11-27</td>\n",
       "      <td>2020-11-27</td>\n",
       "      <td>2020-11-27</td>\n",
       "      <td>2019-12-01</td>\n",
       "      <td>3.0000</td>\n",
       "      <td>2.0000</td>\n",
       "      <td>189.9700</td>\n",
       "      <td>395.3500</td>\n",
       "      <td>[ERKEK, KADIN]</td>\n",
       "    </tr>\n",
       "    <tr>\n",
       "      <th>3</th>\n",
       "      <td>1854e56c-491f-11eb-806e-000d3a38a36f</td>\n",
       "      <td>Android App</td>\n",
       "      <td>Android App</td>\n",
       "      <td>2021-01-06</td>\n",
       "      <td>2021-01-17</td>\n",
       "      <td>2021-01-17</td>\n",
       "      <td>2021-01-06</td>\n",
       "      <td>1.0000</td>\n",
       "      <td>1.0000</td>\n",
       "      <td>39.9900</td>\n",
       "      <td>81.9800</td>\n",
       "      <td>[AKTIFCOCUK, COCUK]</td>\n",
       "    </tr>\n",
       "    <tr>\n",
       "      <th>4</th>\n",
       "      <td>d6ea1074-f1f5-11e9-9346-000d3a38a36f</td>\n",
       "      <td>Desktop</td>\n",
       "      <td>Desktop</td>\n",
       "      <td>2019-08-03</td>\n",
       "      <td>2021-03-07</td>\n",
       "      <td>2021-03-07</td>\n",
       "      <td>2019-08-03</td>\n",
       "      <td>1.0000</td>\n",
       "      <td>1.0000</td>\n",
       "      <td>49.9900</td>\n",
       "      <td>159.9900</td>\n",
       "      <td>[AKTIFSPOR]</td>\n",
       "    </tr>\n",
       "  </tbody>\n",
       "</table>\n",
       "</div>"
      ],
      "text/plain": [
       "                              master_id order_channel last_order_channel first_order_date last_order_date last_order_date_online last_order_date_offline  order_num_total_ever_online  order_num_total_ever_offline  customer_value_total_ever_offline  customer_value_total_ever_online       interested_in_categories_12\n",
       "0  cc294636-19f0-11eb-8d74-000d3a38a36f   Android App            Offline       2020-10-30      2021-02-26             2021-02-21              2021-02-26                       4.0000                        1.0000                           139.9900                          799.3800                           [KADIN]\n",
       "1  f431bd5a-ab7b-11e9-a2fc-000d3a38a36f   Android App             Mobile       2017-02-08      2021-02-16             2021-02-16              2020-01-10                      19.0000                        2.0000                           159.9700                         1853.5800  [ERKEK, COCUK, KADIN, AKTIFSPOR]\n",
       "2  69b69676-1a40-11ea-941b-000d3a38a36f   Android App        Android App       2019-11-27      2020-11-27             2020-11-27              2019-12-01                       3.0000                        2.0000                           189.9700                          395.3500                    [ERKEK, KADIN]\n",
       "3  1854e56c-491f-11eb-806e-000d3a38a36f   Android App        Android App       2021-01-06      2021-01-17             2021-01-17              2021-01-06                       1.0000                        1.0000                            39.9900                           81.9800               [AKTIFCOCUK, COCUK]\n",
       "4  d6ea1074-f1f5-11e9-9346-000d3a38a36f       Desktop            Desktop       2019-08-03      2021-03-07             2021-03-07              2019-08-03                       1.0000                        1.0000                            49.9900                          159.9900                       [AKTIFSPOR]"
      ]
     },
     "execution_count": 4,
     "metadata": {},
     "output_type": "execute_result"
    },
    {
     "data": {
      "text/plain": [
       "(19945, 12)"
      ]
     },
     "execution_count": 4,
     "metadata": {},
     "output_type": "execute_result"
    },
    {
     "name": "stdout",
     "output_type": "stream",
     "text": [
      "<class 'pandas.core.frame.DataFrame'>\n",
      "RangeIndex: 19945 entries, 0 to 19944\n",
      "Data columns (total 12 columns):\n",
      " #   Column                             Non-Null Count  Dtype  \n",
      "---  ------                             --------------  -----  \n",
      " 0   master_id                          19945 non-null  object \n",
      " 1   order_channel                      19945 non-null  object \n",
      " 2   last_order_channel                 19945 non-null  object \n",
      " 3   first_order_date                   19945 non-null  object \n",
      " 4   last_order_date                    19945 non-null  object \n",
      " 5   last_order_date_online             19945 non-null  object \n",
      " 6   last_order_date_offline            19945 non-null  object \n",
      " 7   order_num_total_ever_online        19945 non-null  float64\n",
      " 8   order_num_total_ever_offline       19945 non-null  float64\n",
      " 9   customer_value_total_ever_offline  19945 non-null  float64\n",
      " 10  customer_value_total_ever_online   19945 non-null  float64\n",
      " 11  interested_in_categories_12        19945 non-null  object \n",
      "dtypes: float64(4), object(8)\n",
      "memory usage: 1.8+ MB\n"
     ]
    },
    {
     "data": {
      "text/html": [
       "<div>\n",
       "<style scoped>\n",
       "    .dataframe tbody tr th:only-of-type {\n",
       "        vertical-align: middle;\n",
       "    }\n",
       "\n",
       "    .dataframe tbody tr th {\n",
       "        vertical-align: top;\n",
       "    }\n",
       "\n",
       "    .dataframe thead th {\n",
       "        text-align: right;\n",
       "    }\n",
       "</style>\n",
       "<table border=\"1\" class=\"dataframe\">\n",
       "  <thead>\n",
       "    <tr style=\"text-align: right;\">\n",
       "      <th></th>\n",
       "      <th>count</th>\n",
       "      <th>mean</th>\n",
       "      <th>std</th>\n",
       "      <th>min</th>\n",
       "      <th>25%</th>\n",
       "      <th>50%</th>\n",
       "      <th>75%</th>\n",
       "      <th>max</th>\n",
       "    </tr>\n",
       "  </thead>\n",
       "  <tbody>\n",
       "    <tr>\n",
       "      <th>order_num_total_ever_online</th>\n",
       "      <td>19945.0000</td>\n",
       "      <td>3.1109</td>\n",
       "      <td>4.2256</td>\n",
       "      <td>1.0000</td>\n",
       "      <td>1.0000</td>\n",
       "      <td>2.0000</td>\n",
       "      <td>4.0000</td>\n",
       "      <td>200.0000</td>\n",
       "    </tr>\n",
       "    <tr>\n",
       "      <th>order_num_total_ever_offline</th>\n",
       "      <td>19945.0000</td>\n",
       "      <td>1.9139</td>\n",
       "      <td>2.0629</td>\n",
       "      <td>1.0000</td>\n",
       "      <td>1.0000</td>\n",
       "      <td>1.0000</td>\n",
       "      <td>2.0000</td>\n",
       "      <td>109.0000</td>\n",
       "    </tr>\n",
       "    <tr>\n",
       "      <th>customer_value_total_ever_offline</th>\n",
       "      <td>19945.0000</td>\n",
       "      <td>253.9226</td>\n",
       "      <td>301.5329</td>\n",
       "      <td>10.0000</td>\n",
       "      <td>99.9900</td>\n",
       "      <td>179.9800</td>\n",
       "      <td>319.9700</td>\n",
       "      <td>18119.1400</td>\n",
       "    </tr>\n",
       "    <tr>\n",
       "      <th>customer_value_total_ever_online</th>\n",
       "      <td>19945.0000</td>\n",
       "      <td>497.3217</td>\n",
       "      <td>832.6019</td>\n",
       "      <td>12.9900</td>\n",
       "      <td>149.9800</td>\n",
       "      <td>286.4600</td>\n",
       "      <td>578.4400</td>\n",
       "      <td>45220.1300</td>\n",
       "    </tr>\n",
       "  </tbody>\n",
       "</table>\n",
       "</div>"
      ],
      "text/plain": [
       "                                       count     mean      std     min      25%      50%      75%        max\n",
       "order_num_total_ever_online       19945.0000   3.1109   4.2256  1.0000   1.0000   2.0000   4.0000   200.0000\n",
       "order_num_total_ever_offline      19945.0000   1.9139   2.0629  1.0000   1.0000   1.0000   2.0000   109.0000\n",
       "customer_value_total_ever_offline 19945.0000 253.9226 301.5329 10.0000  99.9900 179.9800 319.9700 18119.1400\n",
       "customer_value_total_ever_online  19945.0000 497.3217 832.6019 12.9900 149.9800 286.4600 578.4400 45220.1300"
      ]
     },
     "execution_count": 4,
     "metadata": {},
     "output_type": "execute_result"
    },
    {
     "data": {
      "text/plain": [
       "master_id                            0\n",
       "order_channel                        0\n",
       "last_order_channel                   0\n",
       "first_order_date                     0\n",
       "last_order_date                      0\n",
       "last_order_date_online               0\n",
       "last_order_date_offline              0\n",
       "order_num_total_ever_online          0\n",
       "order_num_total_ever_offline         0\n",
       "customer_value_total_ever_offline    0\n",
       "customer_value_total_ever_online     0\n",
       "interested_in_categories_12          0\n",
       "dtype: int64"
      ]
     },
     "execution_count": 4,
     "metadata": {},
     "output_type": "execute_result"
    }
   ],
   "source": [
    "df.head()\n",
    "df.shape\n",
    "df.info()\n",
    "df.describe().T      # aykırı değere sahip veriler var\n",
    "df.isnull().sum()    # eksik veri yok"
   ]
  },
  {
   "cell_type": "code",
   "execution_count": 5,
   "id": "29107693",
   "metadata": {
    "execution": {
     "iopub.execute_input": "2024-07-19T07:39:45.182466Z",
     "iopub.status.busy": "2024-07-19T07:39:45.180986Z",
     "iopub.status.idle": "2024-07-19T07:39:45.227759Z",
     "shell.execute_reply": "2024-07-19T07:39:45.226515Z"
    },
    "papermill": {
     "duration": 0.058271,
     "end_time": "2024-07-19T07:39:45.230467",
     "exception": false,
     "start_time": "2024-07-19T07:39:45.172196",
     "status": "completed"
    },
    "tags": []
   },
   "outputs": [
    {
     "data": {
      "text/plain": [
       "Timestamp('2021-05-30 00:00:00')"
      ]
     },
     "execution_count": 5,
     "metadata": {},
     "output_type": "execute_result"
    }
   ],
   "source": [
    "date_columns = df.columns[df.columns.str.contains(\"date\")]\n",
    "df[date_columns] = df[date_columns].apply(pd.to_datetime)\n",
    "\n",
    "df[\"last_order_date\"].max()\n",
    "analysis_date = dt.datetime(2021, 6, 1)"
   ]
  },
  {
   "cell_type": "code",
   "execution_count": 6,
   "id": "f6ffef96",
   "metadata": {
    "execution": {
     "iopub.execute_input": "2024-07-19T07:39:45.248033Z",
     "iopub.status.busy": "2024-07-19T07:39:45.247636Z",
     "iopub.status.idle": "2024-07-19T07:39:45.269038Z",
     "shell.execute_reply": "2024-07-19T07:39:45.267982Z"
    },
    "papermill": {
     "duration": 0.032926,
     "end_time": "2024-07-19T07:39:45.271556",
     "exception": false,
     "start_time": "2024-07-19T07:39:45.238630",
     "status": "completed"
    },
    "tags": []
   },
   "outputs": [
    {
     "data": {
      "text/html": [
       "<div>\n",
       "<style scoped>\n",
       "    .dataframe tbody tr th:only-of-type {\n",
       "        vertical-align: middle;\n",
       "    }\n",
       "\n",
       "    .dataframe tbody tr th {\n",
       "        vertical-align: top;\n",
       "    }\n",
       "\n",
       "    .dataframe thead th {\n",
       "        text-align: right;\n",
       "    }\n",
       "</style>\n",
       "<table border=\"1\" class=\"dataframe\">\n",
       "  <thead>\n",
       "    <tr style=\"text-align: right;\">\n",
       "      <th></th>\n",
       "      <th>order_num_total_ever_online</th>\n",
       "      <th>order_num_total_ever_offline</th>\n",
       "      <th>customer_value_total_ever_offline</th>\n",
       "      <th>customer_value_total_ever_online</th>\n",
       "      <th>recency</th>\n",
       "      <th>tenure</th>\n",
       "    </tr>\n",
       "  </thead>\n",
       "  <tbody>\n",
       "    <tr>\n",
       "      <th>0</th>\n",
       "      <td>4.0000</td>\n",
       "      <td>1.0000</td>\n",
       "      <td>139.9900</td>\n",
       "      <td>799.3800</td>\n",
       "      <td>95</td>\n",
       "      <td>119</td>\n",
       "    </tr>\n",
       "    <tr>\n",
       "      <th>1</th>\n",
       "      <td>19.0000</td>\n",
       "      <td>2.0000</td>\n",
       "      <td>159.9700</td>\n",
       "      <td>1853.5800</td>\n",
       "      <td>105</td>\n",
       "      <td>1469</td>\n",
       "    </tr>\n",
       "    <tr>\n",
       "      <th>2</th>\n",
       "      <td>3.0000</td>\n",
       "      <td>2.0000</td>\n",
       "      <td>189.9700</td>\n",
       "      <td>395.3500</td>\n",
       "      <td>186</td>\n",
       "      <td>366</td>\n",
       "    </tr>\n",
       "    <tr>\n",
       "      <th>3</th>\n",
       "      <td>1.0000</td>\n",
       "      <td>1.0000</td>\n",
       "      <td>39.9900</td>\n",
       "      <td>81.9800</td>\n",
       "      <td>135</td>\n",
       "      <td>11</td>\n",
       "    </tr>\n",
       "    <tr>\n",
       "      <th>4</th>\n",
       "      <td>1.0000</td>\n",
       "      <td>1.0000</td>\n",
       "      <td>49.9900</td>\n",
       "      <td>159.9900</td>\n",
       "      <td>86</td>\n",
       "      <td>582</td>\n",
       "    </tr>\n",
       "  </tbody>\n",
       "</table>\n",
       "</div>"
      ],
      "text/plain": [
       "   order_num_total_ever_online  order_num_total_ever_offline  customer_value_total_ever_offline  customer_value_total_ever_online  recency  tenure\n",
       "0                       4.0000                        1.0000                           139.9900                          799.3800       95     119\n",
       "1                      19.0000                        2.0000                           159.9700                         1853.5800      105    1469\n",
       "2                       3.0000                        2.0000                           189.9700                          395.3500      186     366\n",
       "3                       1.0000                        1.0000                            39.9900                           81.9800      135      11\n",
       "4                       1.0000                        1.0000                            49.9900                          159.9900       86     582"
      ]
     },
     "execution_count": 6,
     "metadata": {},
     "output_type": "execute_result"
    }
   ],
   "source": [
    "df[\"recency\"] = (analysis_date - df[\"last_order_date\"]).dt.days\n",
    "df[\"tenure\"] = (df[\"last_order_date\"] - df[\"first_order_date\"]).dt.days\n",
    "\n",
    "model_df = df[[\"order_num_total_ever_online\",\"order_num_total_ever_offline\",\"customer_value_total_ever_offline\",\"customer_value_total_ever_online\",\"recency\",\"tenure\"]]\n",
    "model_df.head()"
   ]
  },
  {
   "cell_type": "code",
   "execution_count": 7,
   "id": "c998976d",
   "metadata": {
    "execution": {
     "iopub.execute_input": "2024-07-19T07:39:45.289266Z",
     "iopub.status.busy": "2024-07-19T07:39:45.288897Z",
     "iopub.status.idle": "2024-07-19T07:39:45.295768Z",
     "shell.execute_reply": "2024-07-19T07:39:45.294520Z"
    },
    "papermill": {
     "duration": 0.018833,
     "end_time": "2024-07-19T07:39:45.298386",
     "exception": false,
     "start_time": "2024-07-19T07:39:45.279553",
     "status": "completed"
    },
    "tags": []
   },
   "outputs": [],
   "source": [
    "def check_skew(df_skew, column):\n",
    "    skew = stats.skew(df_skew[column])\n",
    "    skewtest = stats.skewtest(df_skew[column])\n",
    "    plt.title('Distribution of ' + column)\n",
    "    sns.distplot(df_skew[column],color = \"g\")\n",
    "    print(\"{}'s: Skew: {}, : {}\".format(column, skew, skewtest))\n",
    "    return"
   ]
  },
  {
   "cell_type": "code",
   "execution_count": 8,
   "id": "0c6e6a3e",
   "metadata": {
    "execution": {
     "iopub.execute_input": "2024-07-19T07:39:45.316407Z",
     "iopub.status.busy": "2024-07-19T07:39:45.315974Z",
     "iopub.status.idle": "2024-07-19T07:39:56.080986Z",
     "shell.execute_reply": "2024-07-19T07:39:56.079828Z"
    },
    "papermill": {
     "duration": 10.778162,
     "end_time": "2024-07-19T07:39:56.084670",
     "exception": false,
     "start_time": "2024-07-19T07:39:45.306508",
     "status": "completed"
    },
    "tags": []
   },
   "outputs": [
    {
     "data": {
      "text/plain": [
       "<Figure size 900x900 with 0 Axes>"
      ]
     },
     "execution_count": 8,
     "metadata": {},
     "output_type": "execute_result"
    },
    {
     "data": {
      "text/plain": [
       "<Axes: >"
      ]
     },
     "execution_count": 8,
     "metadata": {},
     "output_type": "execute_result"
    },
    {
     "name": "stderr",
     "output_type": "stream",
     "text": [
      "/tmp/ipykernel_18/4200321661.py:5: UserWarning: \n",
      "\n",
      "`distplot` is a deprecated function and will be removed in seaborn v0.14.0.\n",
      "\n",
      "Please adapt your code to use either `displot` (a figure-level function with\n",
      "similar flexibility) or `histplot` (an axes-level function for histograms).\n",
      "\n",
      "For a guide to updating your code to use the new functions, please see\n",
      "https://gist.github.com/mwaskom/de44147ed2974457ad6372750bbe5751\n",
      "\n",
      "  sns.distplot(df_skew[column],color = \"g\")\n",
      "/opt/conda/lib/python3.10/site-packages/seaborn/_oldcore.py:1119: FutureWarning: use_inf_as_na option is deprecated and will be removed in a future version. Convert inf values to NaN before operating instead.\n",
      "  with pd.option_context('mode.use_inf_as_na', True):\n"
     ]
    },
    {
     "name": "stdout",
     "output_type": "stream",
     "text": [
      "order_num_total_ever_online's: Skew: 10.487693811914617, : SkewtestResult(statistic=152.9996121784795, pvalue=0.0)\n"
     ]
    },
    {
     "data": {
      "text/plain": [
       "<Axes: >"
      ]
     },
     "execution_count": 8,
     "metadata": {},
     "output_type": "execute_result"
    },
    {
     "name": "stderr",
     "output_type": "stream",
     "text": [
      "/tmp/ipykernel_18/4200321661.py:5: UserWarning: \n",
      "\n",
      "`distplot` is a deprecated function and will be removed in seaborn v0.14.0.\n",
      "\n",
      "Please adapt your code to use either `displot` (a figure-level function with\n",
      "similar flexibility) or `histplot` (an axes-level function for histograms).\n",
      "\n",
      "For a guide to updating your code to use the new functions, please see\n",
      "https://gist.github.com/mwaskom/de44147ed2974457ad6372750bbe5751\n",
      "\n",
      "  sns.distplot(df_skew[column],color = \"g\")\n",
      "/opt/conda/lib/python3.10/site-packages/seaborn/_oldcore.py:1119: FutureWarning: use_inf_as_na option is deprecated and will be removed in a future version. Convert inf values to NaN before operating instead.\n",
      "  with pd.option_context('mode.use_inf_as_na', True):\n"
     ]
    },
    {
     "name": "stdout",
     "output_type": "stream",
     "text": [
      "order_num_total_ever_offline's: Skew: 20.328068075845888, : SkewtestResult(statistic=184.13121810134328, pvalue=0.0)\n"
     ]
    },
    {
     "data": {
      "text/plain": [
       "<Axes: >"
      ]
     },
     "execution_count": 8,
     "metadata": {},
     "output_type": "execute_result"
    },
    {
     "name": "stderr",
     "output_type": "stream",
     "text": [
      "/tmp/ipykernel_18/4200321661.py:5: UserWarning: \n",
      "\n",
      "`distplot` is a deprecated function and will be removed in seaborn v0.14.0.\n",
      "\n",
      "Please adapt your code to use either `displot` (a figure-level function with\n",
      "similar flexibility) or `histplot` (an axes-level function for histograms).\n",
      "\n",
      "For a guide to updating your code to use the new functions, please see\n",
      "https://gist.github.com/mwaskom/de44147ed2974457ad6372750bbe5751\n",
      "\n",
      "  sns.distplot(df_skew[column],color = \"g\")\n",
      "/opt/conda/lib/python3.10/site-packages/seaborn/_oldcore.py:1119: FutureWarning: use_inf_as_na option is deprecated and will be removed in a future version. Convert inf values to NaN before operating instead.\n",
      "  with pd.option_context('mode.use_inf_as_na', True):\n"
     ]
    },
    {
     "name": "stdout",
     "output_type": "stream",
     "text": [
      "customer_value_total_ever_offline's: Skew: 16.29952194789334, : SkewtestResult(statistic=173.73456097827923, pvalue=0.0)\n"
     ]
    },
    {
     "data": {
      "text/plain": [
       "<Axes: >"
      ]
     },
     "execution_count": 8,
     "metadata": {},
     "output_type": "execute_result"
    },
    {
     "name": "stderr",
     "output_type": "stream",
     "text": [
      "/tmp/ipykernel_18/4200321661.py:5: UserWarning: \n",
      "\n",
      "`distplot` is a deprecated function and will be removed in seaborn v0.14.0.\n",
      "\n",
      "Please adapt your code to use either `displot` (a figure-level function with\n",
      "similar flexibility) or `histplot` (an axes-level function for histograms).\n",
      "\n",
      "For a guide to updating your code to use the new functions, please see\n",
      "https://gist.github.com/mwaskom/de44147ed2974457ad6372750bbe5751\n",
      "\n",
      "  sns.distplot(df_skew[column],color = \"g\")\n",
      "/opt/conda/lib/python3.10/site-packages/seaborn/_oldcore.py:1119: FutureWarning: use_inf_as_na option is deprecated and will be removed in a future version. Convert inf values to NaN before operating instead.\n",
      "  with pd.option_context('mode.use_inf_as_na', True):\n"
     ]
    },
    {
     "name": "stdout",
     "output_type": "stream",
     "text": [
      "customer_value_total_ever_online's: Skew: 20.08427979804232, : SkewtestResult(statistic=183.56317267711924, pvalue=0.0)\n"
     ]
    },
    {
     "data": {
      "text/plain": [
       "<Axes: >"
      ]
     },
     "execution_count": 8,
     "metadata": {},
     "output_type": "execute_result"
    },
    {
     "name": "stderr",
     "output_type": "stream",
     "text": [
      "/tmp/ipykernel_18/4200321661.py:5: UserWarning: \n",
      "\n",
      "`distplot` is a deprecated function and will be removed in seaborn v0.14.0.\n",
      "\n",
      "Please adapt your code to use either `displot` (a figure-level function with\n",
      "similar flexibility) or `histplot` (an axes-level function for histograms).\n",
      "\n",
      "For a guide to updating your code to use the new functions, please see\n",
      "https://gist.github.com/mwaskom/de44147ed2974457ad6372750bbe5751\n",
      "\n",
      "  sns.distplot(df_skew[column],color = \"g\")\n",
      "/opt/conda/lib/python3.10/site-packages/seaborn/_oldcore.py:1119: FutureWarning: use_inf_as_na option is deprecated and will be removed in a future version. Convert inf values to NaN before operating instead.\n",
      "  with pd.option_context('mode.use_inf_as_na', True):\n"
     ]
    },
    {
     "name": "stdout",
     "output_type": "stream",
     "text": [
      "recency's: Skew: 0.6172488156761073, : SkewtestResult(statistic=32.86977170491703, pvalue=5.944419293752164e-237)\n"
     ]
    },
    {
     "data": {
      "text/plain": [
       "<Axes: >"
      ]
     },
     "execution_count": 8,
     "metadata": {},
     "output_type": "execute_result"
    },
    {
     "name": "stderr",
     "output_type": "stream",
     "text": [
      "/tmp/ipykernel_18/4200321661.py:5: UserWarning: \n",
      "\n",
      "`distplot` is a deprecated function and will be removed in seaborn v0.14.0.\n",
      "\n",
      "Please adapt your code to use either `displot` (a figure-level function with\n",
      "similar flexibility) or `histplot` (an axes-level function for histograms).\n",
      "\n",
      "For a guide to updating your code to use the new functions, please see\n",
      "https://gist.github.com/mwaskom/de44147ed2974457ad6372750bbe5751\n",
      "\n",
      "  sns.distplot(df_skew[column],color = \"g\")\n",
      "/opt/conda/lib/python3.10/site-packages/seaborn/_oldcore.py:1119: FutureWarning: use_inf_as_na option is deprecated and will be removed in a future version. Convert inf values to NaN before operating instead.\n",
      "  with pd.option_context('mode.use_inf_as_na', True):\n"
     ]
    },
    {
     "name": "stdout",
     "output_type": "stream",
     "text": [
      "tenure's: Skew: 1.756242119042335, : SkewtestResult(statistic=71.08790370222574, pvalue=0.0)\n"
     ]
    },
    {
     "data": {
      "image/png": "[encoded data removed]",
      "text/plain": [
       "<Figure size 900x900 with 6 Axes>"
      ]
     },
     "metadata": {},
     "output_type": "display_data"
    }
   ],
   "source": [
    "plt.figure(figsize=(9, 9))\n",
    "plt.subplot(6, 1, 1)\n",
    "check_skew(model_df,'order_num_total_ever_online')\n",
    "plt.subplot(6, 1, 2)\n",
    "check_skew(model_df,'order_num_total_ever_offline')\n",
    "plt.subplot(6, 1, 3)\n",
    "check_skew(model_df,'customer_value_total_ever_offline')\n",
    "plt.subplot(6, 1, 4)\n",
    "check_skew(model_df,'customer_value_total_ever_online')\n",
    "plt.subplot(6, 1, 5)\n",
    "check_skew(model_df,'recency')\n",
    "plt.subplot(6, 1, 6)\n",
    "check_skew(model_df,'tenure')\n",
    "plt.tight_layout()\n",
    "plt.savefig('before_transform.png', format='png', dpi=1000)\n",
    "plt.show()"
   ]
  },
  {
   "cell_type": "code",
   "execution_count": 9,
   "id": "7fcff482",
   "metadata": {
    "execution": {
     "iopub.execute_input": "2024-07-19T07:39:56.111190Z",
     "iopub.status.busy": "2024-07-19T07:39:56.110800Z",
     "iopub.status.idle": "2024-07-19T07:39:56.132718Z",
     "shell.execute_reply": "2024-07-19T07:39:56.131266Z"
    },
    "papermill": {
     "duration": 0.038475,
     "end_time": "2024-07-19T07:39:56.135579",
     "exception": false,
     "start_time": "2024-07-19T07:39:56.097104",
     "status": "completed"
    },
    "tags": []
   },
   "outputs": [
    {
     "name": "stderr",
     "output_type": "stream",
     "text": [
      "/tmp/ipykernel_18/1844814189.py:1: SettingWithCopyWarning: \n",
      "A value is trying to be set on a copy of a slice from a DataFrame.\n",
      "Try using .loc[row_indexer,col_indexer] = value instead\n",
      "\n",
      "See the caveats in the documentation: https://pandas.pydata.org/pandas-docs/stable/user_guide/indexing.html#returning-a-view-versus-a-copy\n",
      "  model_df['order_num_total_ever_online']=np.log1p(model_df['order_num_total_ever_online'])\n",
      "/tmp/ipykernel_18/1844814189.py:2: SettingWithCopyWarning: \n",
      "A value is trying to be set on a copy of a slice from a DataFrame.\n",
      "Try using .loc[row_indexer,col_indexer] = value instead\n",
      "\n",
      "See the caveats in the documentation: https://pandas.pydata.org/pandas-docs/stable/user_guide/indexing.html#returning-a-view-versus-a-copy\n",
      "  model_df['order_num_total_ever_offline']=np.log1p(model_df['order_num_total_ever_offline'])\n",
      "/tmp/ipykernel_18/1844814189.py:3: SettingWithCopyWarning: \n",
      "A value is trying to be set on a copy of a slice from a DataFrame.\n",
      "Try using .loc[row_indexer,col_indexer] = value instead\n",
      "\n",
      "See the caveats in the documentation: https://pandas.pydata.org/pandas-docs/stable/user_guide/indexing.html#returning-a-view-versus-a-copy\n",
      "  model_df['customer_value_total_ever_offline']=np.log1p(model_df['customer_value_total_ever_offline'])\n",
      "/tmp/ipykernel_18/1844814189.py:4: SettingWithCopyWarning: \n",
      "A value is trying to be set on a copy of a slice from a DataFrame.\n",
      "Try using .loc[row_indexer,col_indexer] = value instead\n",
      "\n",
      "See the caveats in the documentation: https://pandas.pydata.org/pandas-docs/stable/user_guide/indexing.html#returning-a-view-versus-a-copy\n",
      "  model_df['customer_value_total_ever_online']=np.log1p(model_df['customer_value_total_ever_online'])\n",
      "/tmp/ipykernel_18/1844814189.py:5: SettingWithCopyWarning: \n",
      "A value is trying to be set on a copy of a slice from a DataFrame.\n",
      "Try using .loc[row_indexer,col_indexer] = value instead\n",
      "\n",
      "See the caveats in the documentation: https://pandas.pydata.org/pandas-docs/stable/user_guide/indexing.html#returning-a-view-versus-a-copy\n",
      "  model_df['recency']=np.log1p(model_df['recency'])\n",
      "/tmp/ipykernel_18/1844814189.py:6: SettingWithCopyWarning: \n",
      "A value is trying to be set on a copy of a slice from a DataFrame.\n",
      "Try using .loc[row_indexer,col_indexer] = value instead\n",
      "\n",
      "See the caveats in the documentation: https://pandas.pydata.org/pandas-docs/stable/user_guide/indexing.html#returning-a-view-versus-a-copy\n",
      "  model_df['tenure']=np.log1p(model_df['tenure'])\n"
     ]
    },
    {
     "data": {
      "text/html": [
       "<div>\n",
       "<style scoped>\n",
       "    .dataframe tbody tr th:only-of-type {\n",
       "        vertical-align: middle;\n",
       "    }\n",
       "\n",
       "    .dataframe tbody tr th {\n",
       "        vertical-align: top;\n",
       "    }\n",
       "\n",
       "    .dataframe thead th {\n",
       "        text-align: right;\n",
       "    }\n",
       "</style>\n",
       "<table border=\"1\" class=\"dataframe\">\n",
       "  <thead>\n",
       "    <tr style=\"text-align: right;\">\n",
       "      <th></th>\n",
       "      <th>order_num_total_ever_online</th>\n",
       "      <th>order_num_total_ever_offline</th>\n",
       "      <th>customer_value_total_ever_offline</th>\n",
       "      <th>customer_value_total_ever_online</th>\n",
       "      <th>recency</th>\n",
       "      <th>tenure</th>\n",
       "    </tr>\n",
       "  </thead>\n",
       "  <tbody>\n",
       "    <tr>\n",
       "      <th>0</th>\n",
       "      <td>1.6094</td>\n",
       "      <td>0.6931</td>\n",
       "      <td>4.9487</td>\n",
       "      <td>6.6851</td>\n",
       "      <td>4.5643</td>\n",
       "      <td>4.7875</td>\n",
       "    </tr>\n",
       "    <tr>\n",
       "      <th>1</th>\n",
       "      <td>2.9957</td>\n",
       "      <td>1.0986</td>\n",
       "      <td>5.0812</td>\n",
       "      <td>7.5254</td>\n",
       "      <td>4.6634</td>\n",
       "      <td>7.2930</td>\n",
       "    </tr>\n",
       "    <tr>\n",
       "      <th>2</th>\n",
       "      <td>1.3863</td>\n",
       "      <td>1.0986</td>\n",
       "      <td>5.2521</td>\n",
       "      <td>5.9823</td>\n",
       "      <td>5.2311</td>\n",
       "      <td>5.9054</td>\n",
       "    </tr>\n",
       "    <tr>\n",
       "      <th>3</th>\n",
       "      <td>0.6931</td>\n",
       "      <td>0.6931</td>\n",
       "      <td>3.7133</td>\n",
       "      <td>4.4186</td>\n",
       "      <td>4.9127</td>\n",
       "      <td>2.4849</td>\n",
       "    </tr>\n",
       "    <tr>\n",
       "      <th>4</th>\n",
       "      <td>0.6931</td>\n",
       "      <td>0.6931</td>\n",
       "      <td>3.9316</td>\n",
       "      <td>5.0813</td>\n",
       "      <td>4.4659</td>\n",
       "      <td>6.3682</td>\n",
       "    </tr>\n",
       "  </tbody>\n",
       "</table>\n",
       "</div>"
      ],
      "text/plain": [
       "   order_num_total_ever_online  order_num_total_ever_offline  customer_value_total_ever_offline  customer_value_total_ever_online  recency  tenure\n",
       "0                       1.6094                        0.6931                             4.9487                            6.6851   4.5643  4.7875\n",
       "1                       2.9957                        1.0986                             5.0812                            7.5254   4.6634  7.2930\n",
       "2                       1.3863                        1.0986                             5.2521                            5.9823   5.2311  5.9054\n",
       "3                       0.6931                        0.6931                             3.7133                            4.4186   4.9127  2.4849\n",
       "4                       0.6931                        0.6931                             3.9316                            5.0813   4.4659  6.3682"
      ]
     },
     "execution_count": 9,
     "metadata": {},
     "output_type": "execute_result"
    }
   ],
   "source": [
    "model_df['order_num_total_ever_online']=np.log1p(model_df['order_num_total_ever_online'])\n",
    "model_df['order_num_total_ever_offline']=np.log1p(model_df['order_num_total_ever_offline'])\n",
    "model_df['customer_value_total_ever_offline']=np.log1p(model_df['customer_value_total_ever_offline'])\n",
    "model_df['customer_value_total_ever_online']=np.log1p(model_df['customer_value_total_ever_online'])\n",
    "model_df['recency']=np.log1p(model_df['recency'])\n",
    "model_df['tenure']=np.log1p(model_df['tenure'])\n",
    "model_df.head()"
   ]
  },
  {
   "cell_type": "code",
   "execution_count": 10,
   "id": "ef597e2b",
   "metadata": {
    "execution": {
     "iopub.execute_input": "2024-07-19T07:39:56.162751Z",
     "iopub.status.busy": "2024-07-19T07:39:56.162349Z",
     "iopub.status.idle": "2024-07-19T07:39:56.181686Z",
     "shell.execute_reply": "2024-07-19T07:39:56.180515Z"
    },
    "papermill": {
     "duration": 0.035685,
     "end_time": "2024-07-19T07:39:56.183877",
     "exception": false,
     "start_time": "2024-07-19T07:39:56.148192",
     "status": "completed"
    },
    "tags": []
   },
   "outputs": [
    {
     "data": {
      "text/html": [
       "<div>\n",
       "<style scoped>\n",
       "    .dataframe tbody tr th:only-of-type {\n",
       "        vertical-align: middle;\n",
       "    }\n",
       "\n",
       "    .dataframe tbody tr th {\n",
       "        vertical-align: top;\n",
       "    }\n",
       "\n",
       "    .dataframe thead th {\n",
       "        text-align: right;\n",
       "    }\n",
       "</style>\n",
       "<table border=\"1\" class=\"dataframe\">\n",
       "  <thead>\n",
       "    <tr style=\"text-align: right;\">\n",
       "      <th></th>\n",
       "      <th>order_num_total_ever_online</th>\n",
       "      <th>order_num_total_ever_offline</th>\n",
       "      <th>customer_value_total_ever_offline</th>\n",
       "      <th>customer_value_total_ever_online</th>\n",
       "      <th>recency</th>\n",
       "      <th>tenure</th>\n",
       "    </tr>\n",
       "  </thead>\n",
       "  <tbody>\n",
       "    <tr>\n",
       "      <th>0</th>\n",
       "      <td>0.1988</td>\n",
       "      <td>0.0000</td>\n",
       "      <td>0.3444</td>\n",
       "      <td>0.5008</td>\n",
       "      <td>0.7206</td>\n",
       "      <td>0.5971</td>\n",
       "    </tr>\n",
       "    <tr>\n",
       "      <th>1</th>\n",
       "      <td>0.4995</td>\n",
       "      <td>0.1012</td>\n",
       "      <td>0.3623</td>\n",
       "      <td>0.6048</td>\n",
       "      <td>0.7412</td>\n",
       "      <td>0.9096</td>\n",
       "    </tr>\n",
       "    <tr>\n",
       "      <th>2</th>\n",
       "      <td>0.1504</td>\n",
       "      <td>0.1012</td>\n",
       "      <td>0.3853</td>\n",
       "      <td>0.4138</td>\n",
       "      <td>0.8592</td>\n",
       "      <td>0.7365</td>\n",
       "    </tr>\n",
       "    <tr>\n",
       "      <th>3</th>\n",
       "      <td>0.0000</td>\n",
       "      <td>0.0000</td>\n",
       "      <td>0.1776</td>\n",
       "      <td>0.2203</td>\n",
       "      <td>0.7930</td>\n",
       "      <td>0.3099</td>\n",
       "    </tr>\n",
       "    <tr>\n",
       "      <th>4</th>\n",
       "      <td>0.0000</td>\n",
       "      <td>0.0000</td>\n",
       "      <td>0.2071</td>\n",
       "      <td>0.3023</td>\n",
       "      <td>0.7001</td>\n",
       "      <td>0.7942</td>\n",
       "    </tr>\n",
       "  </tbody>\n",
       "</table>\n",
       "</div>"
      ],
      "text/plain": [
       "   order_num_total_ever_online  order_num_total_ever_offline  customer_value_total_ever_offline  customer_value_total_ever_online  recency  tenure\n",
       "0                       0.1988                        0.0000                             0.3444                            0.5008   0.7206  0.5971\n",
       "1                       0.4995                        0.1012                             0.3623                            0.6048   0.7412  0.9096\n",
       "2                       0.1504                        0.1012                             0.3853                            0.4138   0.8592  0.7365\n",
       "3                       0.0000                        0.0000                             0.1776                            0.2203   0.7930  0.3099\n",
       "4                       0.0000                        0.0000                             0.2071                            0.3023   0.7001  0.7942"
      ]
     },
     "execution_count": 10,
     "metadata": {},
     "output_type": "execute_result"
    }
   ],
   "source": [
    "scale = MinMaxScaler((0,1))\n",
    "#scale = StandardScaler()\n",
    "model_scaling = scale.fit_transform(model_df)  #numpy arrayi döner\n",
    "model_df = pd.DataFrame(model_scaling, columns= model_df.columns)\n",
    "model_df.head()"
   ]
  },
  {
   "cell_type": "code",
   "execution_count": 11,
   "id": "63fdcf4f",
   "metadata": {
    "execution": {
     "iopub.execute_input": "2024-07-19T07:39:56.211696Z",
     "iopub.status.busy": "2024-07-19T07:39:56.210783Z",
     "iopub.status.idle": "2024-07-19T07:40:31.423462Z",
     "shell.execute_reply": "2024-07-19T07:40:31.422311Z"
    },
    "papermill": {
     "duration": 35.244122,
     "end_time": "2024-07-19T07:40:31.440666",
     "exception": false,
     "start_time": "2024-07-19T07:39:56.196544",
     "status": "completed"
    },
    "tags": []
   },
   "outputs": [
    {
     "data": {
      "image/png": "[encoded data removed]",
      "text/plain": [
       "<Figure size 800x550 with 2 Axes>"
      ]
     },
     "metadata": {},
     "output_type": "display_data"
    },
    {
     "data": {
      "text/plain": [
       "<Axes: title={'center': 'Distortion Score Elbow for KMeans Clustering'}, xlabel='k', ylabel='distortion score'>"
      ]
     },
     "execution_count": 11,
     "metadata": {},
     "output_type": "execute_result"
    },
    {
     "data": {
      "text/plain": [
       "7"
      ]
     },
     "execution_count": 11,
     "metadata": {},
     "output_type": "execute_result"
    }
   ],
   "source": [
    "kmeans = KMeans()\n",
    "elbow = KElbowVisualizer(kmeans, k=(2,20)).fit(model_df)\n",
    "elbow.show()\n",
    "\n",
    "elbow.elbow_value_"
   ]
  },
  {
   "cell_type": "code",
   "execution_count": 12,
   "id": "fed5560d",
   "metadata": {
    "execution": {
     "iopub.execute_input": "2024-07-19T07:40:31.471126Z",
     "iopub.status.busy": "2024-07-19T07:40:31.470751Z",
     "iopub.status.idle": "2024-07-19T07:40:33.098896Z",
     "shell.execute_reply": "2024-07-19T07:40:33.097518Z"
    },
    "papermill": {
     "duration": 1.646413,
     "end_time": "2024-07-19T07:40:33.101282",
     "exception": false,
     "start_time": "2024-07-19T07:40:31.454869",
     "status": "completed"
    },
    "tags": []
   },
   "outputs": [
    {
     "data": {
      "text/plain": [
       "array([[0.03536445, 0.0274037 , 0.32119368, 0.31019213, 0.88557808,\n",
       "        0.74410405],\n",
       "       [0.30297286, 0.08551401, 0.38989371, 0.54345183, 0.46509114,\n",
       "        0.83427311],\n",
       "       [0.08088832, 0.08588915, 0.39629394, 0.37151045, 0.24541523,\n",
       "        0.78214307],\n",
       "       [0.04859695, 0.04459559, 0.3505692 , 0.32932916, 0.57173934,\n",
       "        0.77865137],\n",
       "       [0.0612478 , 0.19273537, 0.50679964, 0.34020198, 0.7906711 ,\n",
       "        0.80126099],\n",
       "       [0.03035762, 0.01233954, 0.35357719, 0.31893167, 0.7483166 ,\n",
       "        0.395232  ],\n",
       "       [0.25791274, 0.04967979, 0.34534572, 0.50580499, 0.83012951,\n",
       "        0.82737661]])"
      ]
     },
     "execution_count": 12,
     "metadata": {},
     "output_type": "execute_result"
    },
    {
     "data": {
      "text/plain": [
       "900.9439003458177"
      ]
     },
     "execution_count": 12,
     "metadata": {},
     "output_type": "execute_result"
    },
    {
     "data": {
      "text/plain": [
       "array([6, 6, 6, ..., 2, 4, 0], dtype=int32)"
      ]
     },
     "execution_count": 12,
     "metadata": {},
     "output_type": "execute_result"
    },
    {
     "name": "stderr",
     "output_type": "stream",
     "text": [
      "/tmp/ipykernel_18/403725061.py:10: SettingWithCopyWarning: \n",
      "A value is trying to be set on a copy of a slice from a DataFrame.\n",
      "Try using .loc[row_indexer,col_indexer] = value instead\n",
      "\n",
      "See the caveats in the documentation: https://pandas.pydata.org/pandas-docs/stable/user_guide/indexing.html#returning-a-view-versus-a-copy\n",
      "  final_df[\"segment\"] = cust_segments\n"
     ]
    }
   ],
   "source": [
    "k_means = KMeans(n_clusters = elbow.elbow_value_, random_state = 40).fit(model_df)\n",
    "\n",
    "k_means.cluster_centers_\n",
    "k_means.inertia_\n",
    "k_means.labels_\n",
    "\n",
    "cust_segments = k_means.labels_\n",
    "\n",
    "final_df = df[[\"master_id\",\"order_num_total_ever_online\",\"order_num_total_ever_offline\",\"customer_value_total_ever_offline\",\"customer_value_total_ever_online\",\"recency\",\"tenure\"]]\n",
    "final_df[\"segment\"] = cust_segments"
   ]
  },
  {
   "cell_type": "code",
   "execution_count": 13,
   "id": "9757151b",
   "metadata": {
    "execution": {
     "iopub.execute_input": "2024-07-19T07:40:33.135663Z",
     "iopub.status.busy": "2024-07-19T07:40:33.135227Z",
     "iopub.status.idle": "2024-07-19T07:40:33.180040Z",
     "shell.execute_reply": "2024-07-19T07:40:33.178859Z"
    },
    "papermill": {
     "duration": 0.065399,
     "end_time": "2024-07-19T07:40:33.182514",
     "exception": false,
     "start_time": "2024-07-19T07:40:33.117115",
     "status": "completed"
    },
    "tags": []
   },
   "outputs": [
    {
     "data": {
      "text/html": [
       "<div>\n",
       "<style scoped>\n",
       "    .dataframe tbody tr th:only-of-type {\n",
       "        vertical-align: middle;\n",
       "    }\n",
       "\n",
       "    .dataframe tbody tr th {\n",
       "        vertical-align: top;\n",
       "    }\n",
       "\n",
       "    .dataframe thead tr th {\n",
       "        text-align: left;\n",
       "    }\n",
       "\n",
       "    .dataframe thead tr:last-of-type th {\n",
       "        text-align: right;\n",
       "    }\n",
       "</style>\n",
       "<table border=\"1\" class=\"dataframe\">\n",
       "  <thead>\n",
       "    <tr>\n",
       "      <th></th>\n",
       "      <th colspan=\"3\" halign=\"left\">order_num_total_ever_online</th>\n",
       "      <th colspan=\"3\" halign=\"left\">order_num_total_ever_offline</th>\n",
       "      <th colspan=\"3\" halign=\"left\">customer_value_total_ever_offline</th>\n",
       "      <th colspan=\"3\" halign=\"left\">customer_value_total_ever_online</th>\n",
       "      <th colspan=\"3\" halign=\"left\">recency</th>\n",
       "      <th colspan=\"4\" halign=\"left\">tenure</th>\n",
       "    </tr>\n",
       "    <tr>\n",
       "      <th></th>\n",
       "      <th>mean</th>\n",
       "      <th>min</th>\n",
       "      <th>max</th>\n",
       "      <th>mean</th>\n",
       "      <th>min</th>\n",
       "      <th>max</th>\n",
       "      <th>mean</th>\n",
       "      <th>min</th>\n",
       "      <th>max</th>\n",
       "      <th>mean</th>\n",
       "      <th>min</th>\n",
       "      <th>max</th>\n",
       "      <th>mean</th>\n",
       "      <th>min</th>\n",
       "      <th>max</th>\n",
       "      <th>mean</th>\n",
       "      <th>min</th>\n",
       "      <th>max</th>\n",
       "      <th>count</th>\n",
       "    </tr>\n",
       "    <tr>\n",
       "      <th>segment</th>\n",
       "      <th></th>\n",
       "      <th></th>\n",
       "      <th></th>\n",
       "      <th></th>\n",
       "      <th></th>\n",
       "      <th></th>\n",
       "      <th></th>\n",
       "      <th></th>\n",
       "      <th></th>\n",
       "      <th></th>\n",
       "      <th></th>\n",
       "      <th></th>\n",
       "      <th></th>\n",
       "      <th></th>\n",
       "      <th></th>\n",
       "      <th></th>\n",
       "      <th></th>\n",
       "      <th></th>\n",
       "      <th></th>\n",
       "    </tr>\n",
       "  </thead>\n",
       "  <tbody>\n",
       "    <tr>\n",
       "      <th>0</th>\n",
       "      <td>1.4285</td>\n",
       "      <td>1.0000</td>\n",
       "      <td>5.0000</td>\n",
       "      <td>1.2773</td>\n",
       "      <td>1.0000</td>\n",
       "      <td>5.0000</td>\n",
       "      <td>144.4205</td>\n",
       "      <td>10.0000</td>\n",
       "      <td>829.9800</td>\n",
       "      <td>211.6496</td>\n",
       "      <td>12.9900</td>\n",
       "      <td>1519.1700</td>\n",
       "      <td>226.0357</td>\n",
       "      <td>88</td>\n",
       "      <td>367</td>\n",
       "      <td>490.1179</td>\n",
       "      <td>52</td>\n",
       "      <td>2820</td>\n",
       "      <td>5456</td>\n",
       "    </tr>\n",
       "    <tr>\n",
       "      <th>1</th>\n",
       "      <td>8.5789</td>\n",
       "      <td>2.0000</td>\n",
       "      <td>200.0000</td>\n",
       "      <td>2.0944</td>\n",
       "      <td>1.0000</td>\n",
       "      <td>36.0000</td>\n",
       "      <td>279.1181</td>\n",
       "      <td>12.9900</td>\n",
       "      <td>3589.6500</td>\n",
       "      <td>1468.6134</td>\n",
       "      <td>265.9700</td>\n",
       "      <td>45220.1300</td>\n",
       "      <td>32.0812</td>\n",
       "      <td>2</td>\n",
       "      <td>109</td>\n",
       "      <td>966.5028</td>\n",
       "      <td>18</td>\n",
       "      <td>3034</td>\n",
       "      <td>1971</td>\n",
       "    </tr>\n",
       "    <tr>\n",
       "      <th>2</th>\n",
       "      <td>2.1680</td>\n",
       "      <td>1.0000</td>\n",
       "      <td>11.0000</td>\n",
       "      <td>2.0955</td>\n",
       "      <td>1.0000</td>\n",
       "      <td>14.0000</td>\n",
       "      <td>293.1946</td>\n",
       "      <td>12.9900</td>\n",
       "      <td>3425.1400</td>\n",
       "      <td>371.6160</td>\n",
       "      <td>23.9900</td>\n",
       "      <td>3444.0800</td>\n",
       "      <td>10.0344</td>\n",
       "      <td>2</td>\n",
       "      <td>27</td>\n",
       "      <td>662.6568</td>\n",
       "      <td>2</td>\n",
       "      <td>2962</td>\n",
       "      <td>1833</td>\n",
       "    </tr>\n",
       "    <tr>\n",
       "      <th>3</th>\n",
       "      <td>1.6083</td>\n",
       "      <td>1.0000</td>\n",
       "      <td>6.0000</td>\n",
       "      <td>1.4794</td>\n",
       "      <td>1.0000</td>\n",
       "      <td>6.0000</td>\n",
       "      <td>185.8527</td>\n",
       "      <td>12.9900</td>\n",
       "      <td>1406.8500</td>\n",
       "      <td>249.5788</td>\n",
       "      <td>14.0000</td>\n",
       "      <td>1307.3300</td>\n",
       "      <td>50.5431</td>\n",
       "      <td>15</td>\n",
       "      <td>109</td>\n",
       "      <td>604.3235</td>\n",
       "      <td>51</td>\n",
       "      <td>2828</td>\n",
       "      <td>3342</td>\n",
       "    </tr>\n",
       "    <tr>\n",
       "      <th>4</th>\n",
       "      <td>1.8234</td>\n",
       "      <td>1.0000</td>\n",
       "      <td>13.0000</td>\n",
       "      <td>3.7588</td>\n",
       "      <td>1.0000</td>\n",
       "      <td>109.0000</td>\n",
       "      <td>549.9975</td>\n",
       "      <td>106.8200</td>\n",
       "      <td>18119.1400</td>\n",
       "      <td>281.7203</td>\n",
       "      <td>14.9900</td>\n",
       "      <td>2587.2000</td>\n",
       "      <td>153.7649</td>\n",
       "      <td>22</td>\n",
       "      <td>366</td>\n",
       "      <td>728.2818</td>\n",
       "      <td>20</td>\n",
       "      <td>2911</td>\n",
       "      <td>3279</td>\n",
       "    </tr>\n",
       "    <tr>\n",
       "      <th>5</th>\n",
       "      <td>1.4044</td>\n",
       "      <td>1.0000</td>\n",
       "      <td>8.0000</td>\n",
       "      <td>1.1295</td>\n",
       "      <td>1.0000</td>\n",
       "      <td>6.0000</td>\n",
       "      <td>192.6059</td>\n",
       "      <td>12.9900</td>\n",
       "      <td>1333.0000</td>\n",
       "      <td>250.5054</td>\n",
       "      <td>19.9900</td>\n",
       "      <td>3476.8100</td>\n",
       "      <td>139.3462</td>\n",
       "      <td>4</td>\n",
       "      <td>367</td>\n",
       "      <td>37.0278</td>\n",
       "      <td>0</td>\n",
       "      <td>132</td>\n",
       "      <td>826</td>\n",
       "    </tr>\n",
       "    <tr>\n",
       "      <th>6</th>\n",
       "      <td>6.4407</td>\n",
       "      <td>1.0000</td>\n",
       "      <td>55.0000</td>\n",
       "      <td>1.5544</td>\n",
       "      <td>1.0000</td>\n",
       "      <td>16.0000</td>\n",
       "      <td>186.9384</td>\n",
       "      <td>10.4900</td>\n",
       "      <td>1644.7900</td>\n",
       "      <td>995.5963</td>\n",
       "      <td>180.9600</td>\n",
       "      <td>12038.1800</td>\n",
       "      <td>178.7171</td>\n",
       "      <td>55</td>\n",
       "      <td>367</td>\n",
       "      <td>947.5704</td>\n",
       "      <td>26</td>\n",
       "      <td>2964</td>\n",
       "      <td>3238</td>\n",
       "    </tr>\n",
       "  </tbody>\n",
       "</table>\n",
       "</div>"
      ],
      "text/plain": [
       "        order_num_total_ever_online                 order_num_total_ever_offline                 customer_value_total_ever_offline                     customer_value_total_ever_online                      recency            tenure                \n",
       "                               mean    min      max                         mean    min      max                              mean      min        max                             mean      min        max     mean min  max     mean min   max count\n",
       "segment                                                                                                                                                                                                                                               \n",
       "0                            1.4285 1.0000   5.0000                       1.2773 1.0000   5.0000                          144.4205  10.0000   829.9800                         211.6496  12.9900  1519.1700 226.0357  88  367 490.1179  52  2820  5456\n",
       "1                            8.5789 2.0000 200.0000                       2.0944 1.0000  36.0000                          279.1181  12.9900  3589.6500                        1468.6134 265.9700 45220.1300  32.0812   2  109 966.5028  18  3034  1971\n",
       "2                            2.1680 1.0000  11.0000                       2.0955 1.0000  14.0000                          293.1946  12.9900  3425.1400                         371.6160  23.9900  3444.0800  10.0344   2   27 662.6568   2  2962  1833\n",
       "3                            1.6083 1.0000   6.0000                       1.4794 1.0000   6.0000                          185.8527  12.9900  1406.8500                         249.5788  14.0000  1307.3300  50.5431  15  109 604.3235  51  2828  3342\n",
       "4                            1.8234 1.0000  13.0000                       3.7588 1.0000 109.0000                          549.9975 106.8200 18119.1400                         281.7203  14.9900  2587.2000 153.7649  22  366 728.2818  20  2911  3279\n",
       "5                            1.4044 1.0000   8.0000                       1.1295 1.0000   6.0000                          192.6059  12.9900  1333.0000                         250.5054  19.9900  3476.8100 139.3462   4  367  37.0278   0   132   826\n",
       "6                            6.4407 1.0000  55.0000                       1.5544 1.0000  16.0000                          186.9384  10.4900  1644.7900                         995.5963 180.9600 12038.1800 178.7171  55  367 947.5704  26  2964  3238"
      ]
     },
     "execution_count": 13,
     "metadata": {},
     "output_type": "execute_result"
    }
   ],
   "source": [
    "final_df.groupby(\"segment\").agg({\"order_num_total_ever_online\":[\"mean\",\"min\",\"max\"],\n",
    "                                  \"order_num_total_ever_offline\":[\"mean\",\"min\",\"max\"],\n",
    "                                  \"customer_value_total_ever_offline\":[\"mean\",\"min\",\"max\"],\n",
    "                                  \"customer_value_total_ever_online\":[\"mean\",\"min\",\"max\"],\n",
    "                                  \"recency\":[\"mean\",\"min\",\"max\"],\n",
    "                                  \"tenure\":[\"mean\",\"min\",\"max\",\"count\"]})"
   ]
  },
  {
   "cell_type": "code",
   "execution_count": 14,
   "id": "c6de20f1",
   "metadata": {
    "execution": {
     "iopub.execute_input": "2024-07-19T07:40:33.216104Z",
     "iopub.status.busy": "2024-07-19T07:40:33.215700Z",
     "iopub.status.idle": "2024-07-19T07:41:06.651127Z",
     "shell.execute_reply": "2024-07-19T07:41:06.649871Z"
    },
    "papermill": {
     "duration": 33.472025,
     "end_time": "2024-07-19T07:41:06.670001",
     "exception": false,
     "start_time": "2024-07-19T07:40:33.197976",
     "status": "completed"
    },
    "tags": []
   },
   "outputs": [
    {
     "data": {
      "text/plain": [
       "<Figure size 700x500 with 0 Axes>"
      ]
     },
     "execution_count": 14,
     "metadata": {},
     "output_type": "execute_result"
    },
    {
     "data": {
      "text/plain": [
       "Text(0.5, 1.0, 'Dendrograms')"
      ]
     },
     "execution_count": 14,
     "metadata": {},
     "output_type": "execute_result"
    },
    {
     "data": {
      "text/plain": [
       "<matplotlib.lines.Line2D at 0x7a3f481eccd0>"
      ]
     },
     "execution_count": 14,
     "metadata": {},
     "output_type": "execute_result"
    },
    {
     "data": {
      "image/png": "[encoded data removed]",
      "text/plain": [
       "<Figure size 700x500 with 1 Axes>"
      ]
     },
     "metadata": {},
     "output_type": "display_data"
    }
   ],
   "source": [
    "hc_average = linkage(model_df, 'average')\n",
    "\n",
    "plt.figure(figsize=(7, 5))\n",
    "plt.title(\"Dendrograms\")\n",
    "dend = dendrogram(hc_average,\n",
    "           truncate_mode=\"lastp\",\n",
    "           p=10,\n",
    "           show_contracted=True,\n",
    "           leaf_font_size=10)\n",
    "plt.axhline(y=0.65, color='r', linestyle='--')    #çizgi atma işini yapan satır\n",
    "plt.show()"
   ]
  },
  {
   "cell_type": "code",
   "execution_count": 15,
   "id": "b215accc",
   "metadata": {
    "execution": {
     "iopub.execute_input": "2024-07-19T07:41:06.705054Z",
     "iopub.status.busy": "2024-07-19T07:41:06.704632Z",
     "iopub.status.idle": "2024-07-19T07:41:27.471949Z",
     "shell.execute_reply": "2024-07-19T07:41:27.470567Z"
    },
    "papermill": {
     "duration": 20.788083,
     "end_time": "2024-07-19T07:41:27.474851",
     "exception": false,
     "start_time": "2024-07-19T07:41:06.686768",
     "status": "completed"
    },
    "tags": []
   },
   "outputs": [
    {
     "name": "stderr",
     "output_type": "stream",
     "text": [
      "/tmp/ipykernel_18/3443624036.py:5: SettingWithCopyWarning: \n",
      "A value is trying to be set on a copy of a slice from a DataFrame.\n",
      "Try using .loc[row_indexer,col_indexer] = value instead\n",
      "\n",
      "See the caveats in the documentation: https://pandas.pydata.org/pandas-docs/stable/user_guide/indexing.html#returning-a-view-versus-a-copy\n",
      "  final_df[\"segment\"] = segments\n",
      "/tmp/ipykernel_18/3443624036.py:6: SettingWithCopyWarning: \n",
      "A value is trying to be set on a copy of a slice from a DataFrame.\n",
      "Try using .loc[row_indexer,col_indexer] = value instead\n",
      "\n",
      "See the caveats in the documentation: https://pandas.pydata.org/pandas-docs/stable/user_guide/indexing.html#returning-a-view-versus-a-copy\n",
      "  final_df[\"segment\"] = final_df[\"segment\"] + 1\n"
     ]
    },
    {
     "data": {
      "text/html": [
       "<div>\n",
       "<style scoped>\n",
       "    .dataframe tbody tr th:only-of-type {\n",
       "        vertical-align: middle;\n",
       "    }\n",
       "\n",
       "    .dataframe tbody tr th {\n",
       "        vertical-align: top;\n",
       "    }\n",
       "\n",
       "    .dataframe thead th {\n",
       "        text-align: right;\n",
       "    }\n",
       "</style>\n",
       "<table border=\"1\" class=\"dataframe\">\n",
       "  <thead>\n",
       "    <tr style=\"text-align: right;\">\n",
       "      <th></th>\n",
       "      <th>master_id</th>\n",
       "      <th>order_num_total_ever_online</th>\n",
       "      <th>order_num_total_ever_offline</th>\n",
       "      <th>customer_value_total_ever_offline</th>\n",
       "      <th>customer_value_total_ever_online</th>\n",
       "      <th>recency</th>\n",
       "      <th>tenure</th>\n",
       "      <th>segment</th>\n",
       "    </tr>\n",
       "  </thead>\n",
       "  <tbody>\n",
       "    <tr>\n",
       "      <th>0</th>\n",
       "      <td>cc294636-19f0-11eb-8d74-000d3a38a36f</td>\n",
       "      <td>4.0000</td>\n",
       "      <td>1.0000</td>\n",
       "      <td>139.9900</td>\n",
       "      <td>799.3800</td>\n",
       "      <td>95</td>\n",
       "      <td>119</td>\n",
       "      <td>4</td>\n",
       "    </tr>\n",
       "    <tr>\n",
       "      <th>1</th>\n",
       "      <td>f431bd5a-ab7b-11e9-a2fc-000d3a38a36f</td>\n",
       "      <td>19.0000</td>\n",
       "      <td>2.0000</td>\n",
       "      <td>159.9700</td>\n",
       "      <td>1853.5800</td>\n",
       "      <td>105</td>\n",
       "      <td>1469</td>\n",
       "      <td>3</td>\n",
       "    </tr>\n",
       "    <tr>\n",
       "      <th>2</th>\n",
       "      <td>69b69676-1a40-11ea-941b-000d3a38a36f</td>\n",
       "      <td>3.0000</td>\n",
       "      <td>2.0000</td>\n",
       "      <td>189.9700</td>\n",
       "      <td>395.3500</td>\n",
       "      <td>186</td>\n",
       "      <td>366</td>\n",
       "      <td>1</td>\n",
       "    </tr>\n",
       "    <tr>\n",
       "      <th>3</th>\n",
       "      <td>1854e56c-491f-11eb-806e-000d3a38a36f</td>\n",
       "      <td>1.0000</td>\n",
       "      <td>1.0000</td>\n",
       "      <td>39.9900</td>\n",
       "      <td>81.9800</td>\n",
       "      <td>135</td>\n",
       "      <td>11</td>\n",
       "      <td>4</td>\n",
       "    </tr>\n",
       "    <tr>\n",
       "      <th>4</th>\n",
       "      <td>d6ea1074-f1f5-11e9-9346-000d3a38a36f</td>\n",
       "      <td>1.0000</td>\n",
       "      <td>1.0000</td>\n",
       "      <td>49.9900</td>\n",
       "      <td>159.9900</td>\n",
       "      <td>86</td>\n",
       "      <td>582</td>\n",
       "      <td>1</td>\n",
       "    </tr>\n",
       "  </tbody>\n",
       "</table>\n",
       "</div>"
      ],
      "text/plain": [
       "                              master_id  order_num_total_ever_online  order_num_total_ever_offline  customer_value_total_ever_offline  customer_value_total_ever_online  recency  tenure  segment\n",
       "0  cc294636-19f0-11eb-8d74-000d3a38a36f                       4.0000                        1.0000                           139.9900                          799.3800       95     119        4\n",
       "1  f431bd5a-ab7b-11e9-a2fc-000d3a38a36f                      19.0000                        2.0000                           159.9700                         1853.5800      105    1469        3\n",
       "2  69b69676-1a40-11ea-941b-000d3a38a36f                       3.0000                        2.0000                           189.9700                          395.3500      186     366        1\n",
       "3  1854e56c-491f-11eb-806e-000d3a38a36f                       1.0000                        1.0000                            39.9900                           81.9800      135      11        4\n",
       "4  d6ea1074-f1f5-11e9-9346-000d3a38a36f                       1.0000                        1.0000                            49.9900                          159.9900       86     582        1"
      ]
     },
     "execution_count": 15,
     "metadata": {},
     "output_type": "execute_result"
    }
   ],
   "source": [
    "hc = AgglomerativeClustering(n_clusters=5)\n",
    "segments = hc.fit_predict(model_df)\n",
    "\n",
    "final_df = df[[\"master_id\",\"order_num_total_ever_online\",\"order_num_total_ever_offline\",\"customer_value_total_ever_offline\",\"customer_value_total_ever_online\",\"recency\",\"tenure\"]]\n",
    "final_df[\"segment\"] = segments\n",
    "final_df[\"segment\"] = final_df[\"segment\"] + 1\n",
    "final_df.head()"
   ]
  },
  {
   "cell_type": "code",
   "execution_count": 16,
   "id": "240cab68",
   "metadata": {
    "execution": {
     "iopub.execute_input": "2024-07-19T07:41:27.511106Z",
     "iopub.status.busy": "2024-07-19T07:41:27.510699Z",
     "iopub.status.idle": "2024-07-19T07:41:27.548192Z",
     "shell.execute_reply": "2024-07-19T07:41:27.547003Z"
    },
    "papermill": {
     "duration": 0.058786,
     "end_time": "2024-07-19T07:41:27.550938",
     "exception": false,
     "start_time": "2024-07-19T07:41:27.492152",
     "status": "completed"
    },
    "tags": []
   },
   "outputs": [
    {
     "data": {
      "text/html": [
       "<div>\n",
       "<style scoped>\n",
       "    .dataframe tbody tr th:only-of-type {\n",
       "        vertical-align: middle;\n",
       "    }\n",
       "\n",
       "    .dataframe tbody tr th {\n",
       "        vertical-align: top;\n",
       "    }\n",
       "\n",
       "    .dataframe thead tr th {\n",
       "        text-align: left;\n",
       "    }\n",
       "\n",
       "    .dataframe thead tr:last-of-type th {\n",
       "        text-align: right;\n",
       "    }\n",
       "</style>\n",
       "<table border=\"1\" class=\"dataframe\">\n",
       "  <thead>\n",
       "    <tr>\n",
       "      <th></th>\n",
       "      <th colspan=\"3\" halign=\"left\">order_num_total_ever_online</th>\n",
       "      <th colspan=\"3\" halign=\"left\">order_num_total_ever_offline</th>\n",
       "      <th colspan=\"3\" halign=\"left\">customer_value_total_ever_offline</th>\n",
       "      <th colspan=\"3\" halign=\"left\">customer_value_total_ever_online</th>\n",
       "      <th colspan=\"3\" halign=\"left\">recency</th>\n",
       "      <th colspan=\"4\" halign=\"left\">tenure</th>\n",
       "    </tr>\n",
       "    <tr>\n",
       "      <th></th>\n",
       "      <th>mean</th>\n",
       "      <th>min</th>\n",
       "      <th>max</th>\n",
       "      <th>mean</th>\n",
       "      <th>min</th>\n",
       "      <th>max</th>\n",
       "      <th>mean</th>\n",
       "      <th>min</th>\n",
       "      <th>max</th>\n",
       "      <th>mean</th>\n",
       "      <th>min</th>\n",
       "      <th>max</th>\n",
       "      <th>mean</th>\n",
       "      <th>min</th>\n",
       "      <th>max</th>\n",
       "      <th>mean</th>\n",
       "      <th>min</th>\n",
       "      <th>max</th>\n",
       "      <th>count</th>\n",
       "    </tr>\n",
       "    <tr>\n",
       "      <th>segment</th>\n",
       "      <th></th>\n",
       "      <th></th>\n",
       "      <th></th>\n",
       "      <th></th>\n",
       "      <th></th>\n",
       "      <th></th>\n",
       "      <th></th>\n",
       "      <th></th>\n",
       "      <th></th>\n",
       "      <th></th>\n",
       "      <th></th>\n",
       "      <th></th>\n",
       "      <th></th>\n",
       "      <th></th>\n",
       "      <th></th>\n",
       "      <th></th>\n",
       "      <th></th>\n",
       "      <th></th>\n",
       "      <th></th>\n",
       "    </tr>\n",
       "  </thead>\n",
       "  <tbody>\n",
       "    <tr>\n",
       "      <th>1</th>\n",
       "      <td>1.3711</td>\n",
       "      <td>1.0000</td>\n",
       "      <td>13.0000</td>\n",
       "      <td>1.9878</td>\n",
       "      <td>1.0000</td>\n",
       "      <td>109.0000</td>\n",
       "      <td>261.9665</td>\n",
       "      <td>10.4900</td>\n",
       "      <td>18119.1400</td>\n",
       "      <td>208.0685</td>\n",
       "      <td>12.9900</td>\n",
       "      <td>30688.4700</td>\n",
       "      <td>183.0273</td>\n",
       "      <td>18</td>\n",
       "      <td>367</td>\n",
       "      <td>569.7232</td>\n",
       "      <td>3</td>\n",
       "      <td>2911</td>\n",
       "      <td>8747</td>\n",
       "    </tr>\n",
       "    <tr>\n",
       "      <th>2</th>\n",
       "      <td>3.7539</td>\n",
       "      <td>1.0000</td>\n",
       "      <td>49.0000</td>\n",
       "      <td>1.8170</td>\n",
       "      <td>1.0000</td>\n",
       "      <td>24.0000</td>\n",
       "      <td>240.9836</td>\n",
       "      <td>12.9900</td>\n",
       "      <td>3425.1400</td>\n",
       "      <td>638.6138</td>\n",
       "      <td>19.9900</td>\n",
       "      <td>12545.3700</td>\n",
       "      <td>23.9622</td>\n",
       "      <td>2</td>\n",
       "      <td>108</td>\n",
       "      <td>715.0657</td>\n",
       "      <td>18</td>\n",
       "      <td>3034</td>\n",
       "      <td>4994</td>\n",
       "    </tr>\n",
       "    <tr>\n",
       "      <th>3</th>\n",
       "      <td>6.9057</td>\n",
       "      <td>1.0000</td>\n",
       "      <td>200.0000</td>\n",
       "      <td>3.0772</td>\n",
       "      <td>1.0000</td>\n",
       "      <td>16.0000</td>\n",
       "      <td>427.1183</td>\n",
       "      <td>12.9900</td>\n",
       "      <td>2963.2400</td>\n",
       "      <td>1104.1246</td>\n",
       "      <td>139.9800</td>\n",
       "      <td>45220.1300</td>\n",
       "      <td>131.5739</td>\n",
       "      <td>14</td>\n",
       "      <td>365</td>\n",
       "      <td>914.4871</td>\n",
       "      <td>109</td>\n",
       "      <td>3016</td>\n",
       "      <td>2396</td>\n",
       "    </tr>\n",
       "    <tr>\n",
       "      <th>4</th>\n",
       "      <td>1.3970</td>\n",
       "      <td>1.0000</td>\n",
       "      <td>6.0000</td>\n",
       "      <td>1.1990</td>\n",
       "      <td>1.0000</td>\n",
       "      <td>6.0000</td>\n",
       "      <td>200.6907</td>\n",
       "      <td>12.9900</td>\n",
       "      <td>1019.9700</td>\n",
       "      <td>227.4241</td>\n",
       "      <td>26.9900</td>\n",
       "      <td>1389.6000</td>\n",
       "      <td>92.5157</td>\n",
       "      <td>4</td>\n",
       "      <td>367</td>\n",
       "      <td>80.2579</td>\n",
       "      <td>0</td>\n",
       "      <td>555</td>\n",
       "      <td>985</td>\n",
       "    </tr>\n",
       "    <tr>\n",
       "      <th>5</th>\n",
       "      <td>4.7411</td>\n",
       "      <td>1.0000</td>\n",
       "      <td>24.0000</td>\n",
       "      <td>1.1187</td>\n",
       "      <td>1.0000</td>\n",
       "      <td>4.0000</td>\n",
       "      <td>123.4635</td>\n",
       "      <td>10.0000</td>\n",
       "      <td>1049.9200</td>\n",
       "      <td>722.7679</td>\n",
       "      <td>59.9800</td>\n",
       "      <td>7665.2800</td>\n",
       "      <td>196.5236</td>\n",
       "      <td>36</td>\n",
       "      <td>367</td>\n",
       "      <td>876.9539</td>\n",
       "      <td>71</td>\n",
       "      <td>2964</td>\n",
       "      <td>2823</td>\n",
       "    </tr>\n",
       "  </tbody>\n",
       "</table>\n",
       "</div>"
      ],
      "text/plain": [
       "        order_num_total_ever_online                 order_num_total_ever_offline                 customer_value_total_ever_offline                    customer_value_total_ever_online                      recency            tenure                 \n",
       "                               mean    min      max                         mean    min      max                              mean     min        max                             mean      min        max     mean min  max     mean  min   max count\n",
       "segment                                                                                                                                                                                                                                               \n",
       "1                            1.3711 1.0000  13.0000                       1.9878 1.0000 109.0000                          261.9665 10.4900 18119.1400                         208.0685  12.9900 30688.4700 183.0273  18  367 569.7232    3  2911  8747\n",
       "2                            3.7539 1.0000  49.0000                       1.8170 1.0000  24.0000                          240.9836 12.9900  3425.1400                         638.6138  19.9900 12545.3700  23.9622   2  108 715.0657   18  3034  4994\n",
       "3                            6.9057 1.0000 200.0000                       3.0772 1.0000  16.0000                          427.1183 12.9900  2963.2400                        1104.1246 139.9800 45220.1300 131.5739  14  365 914.4871  109  3016  2396\n",
       "4                            1.3970 1.0000   6.0000                       1.1990 1.0000   6.0000                          200.6907 12.9900  1019.9700                         227.4241  26.9900  1389.6000  92.5157   4  367  80.2579    0   555   985\n",
       "5                            4.7411 1.0000  24.0000                       1.1187 1.0000   4.0000                          123.4635 10.0000  1049.9200                         722.7679  59.9800  7665.2800 196.5236  36  367 876.9539   71  2964  2823"
      ]
     },
     "execution_count": 16,
     "metadata": {},
     "output_type": "execute_result"
    }
   ],
   "source": [
    "final_df.groupby(\"segment\").agg({\"order_num_total_ever_online\":[\"mean\",\"min\",\"max\"],\n",
    "                                  \"order_num_total_ever_offline\":[\"mean\",\"min\",\"max\"],\n",
    "                                  \"customer_value_total_ever_offline\":[\"mean\",\"min\",\"max\"],\n",
    "                                  \"customer_value_total_ever_online\":[\"mean\",\"min\",\"max\"],\n",
    "                                  \"recency\":[\"mean\",\"min\",\"max\"],\n",
    "                                  \"tenure\":[\"mean\",\"min\",\"max\",\"count\"]})"
   ]
  }
 ],
 "metadata": {
  "kaggle": {
   "accelerator": "none",
   "dataSources": [
    {
     "datasetId": 5414018,
     "sourceId": 8989153,
     "sourceType": "datasetVersion"
    }
   ],
   "dockerImageVersionId": 30746,
   "isGpuEnabled": false,
   "isInternetEnabled": true,
   "language": "python",
   "sourceType": "notebook"
  },
  "kernelspec": {
   "display_name": "Python 3",
   "language": "python",
   "name": "python3"
  },
  "language_info": {
   "codemirror_mode": {
    "name": "ipython",
    "version": 3
   },
   "file_extension": ".py",
   "mimetype": "text/x-python",
   "name": "python",
   "nbconvert_exporter": "python",
   "pygments_lexer": "ipython3",
   "version": "3.10.13"
  },
  "papermill": {
   "default_parameters": {},
   "duration": 110.249042,
   "end_time": "2024-07-19T07:41:28.692858",
   "environment_variables": {},
   "exception": null,
   "input_path": "__notebook__.ipynb",
   "output_path": "__notebook__.ipynb",
   "parameters": {},
   "start_time": "2024-07-19T07:39:38.443816",
   "version": "2.5.0"
  }
 },
 "nbformat": 4,
 "nbformat_minor": 5
}
